{
  "nbformat": 4,
  "nbformat_minor": 0,
  "metadata": {
    "kernelspec": {
      "display_name": "Python 3",
      "language": "python",
      "name": "python3"
    },
    "language_info": {
      "codemirror_mode": {
        "name": "ipython",
        "version": 3
      },
      "file_extension": ".py",
      "mimetype": "text/x-python",
      "name": "python",
      "nbconvert_exporter": "python",
      "pygments_lexer": "ipython3",
      "version": "3.7.3"
    },
    "colab": {
      "name": "Uni-Facef - Pyspark - Atividade Nota.ipynb",
      "provenance": []
    }
  },
  "cells": [
    {
      "cell_type": "markdown",
      "metadata": {
        "id": "HHZO_amTG2Ha"
      },
      "source": [
        "\n",
        "**Trabalho pós facef - Caio Santos Freitas**\n"
      ]
    },
    {
      "cell_type": "markdown",
      "metadata": {
        "id": "URFxXNhcG2Hc"
      },
      "source": [
        "Essa atividade tem como objetivo descobrir um pouco mais sobre o cliente e traçar um perfil do mesmo. Visto que temos as informações pessoais do cliemte em um arquivo chamado \"cliente_fake.csv\", e os dados transacionais desse cliente no arquivo chamado \"venda_fake\". E idéia do exercicio é a manipulação dos dados de forma a fazer agregações, join nos dados, podendo ser necessário o uso de UDFs, gerando um Dataframe Final:\n",
        "\n",
        "#### O Dataframe final deve estar agrupado por cliente (cliente_id), e conter as seguintes informações:\n",
        "\n",
        "- cliente_id - O identificador do cliente\n",
        "- idade - Calcular a idade do cliente (valor inteiro)\n",
        "- recencia - Calcular a quantos meses faz que o cliente não compra (valor inteiro)\n",
        "- qt_total_compras - Quantidade total de compras (pedidos distintos)\n",
        "- vr_total_compras = Valor total de compras do cliente\n",
        "- qt_total_itens - Quantidade total de itens comprados pelo cliente (produto_id distintos)\n",
        "- qt_max_parcelas - Quantidade máxima de parcelas que o cliente já utilizou\n",
        "- perfil_cliente - Deve mostrar o perfil de compra desse cliente, se compra somente \"loja\" ou somente \"online\", ou em ambos \"multicanal\";\n",
        "\n",
        "OBS: O dataset \"venda_fake\" está a nível de itens. Pode haver mais de um item por pedido, ito é, o numero do pedido pode estar duplicado nodataset. \n"
      ]
    },
    {
      "cell_type": "code",
      "metadata": {
        "id": "tht_C0iFHCJ2",
        "outputId": "adb903e1-d4ac-4256-f377-3b37063a99d5",
        "colab": {
          "resources": {
            "http://localhost:8080/nbextensions/google.colab/files.js": {
              "data": "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",
              "ok": true,
              "headers": [
                [
                  "content-type",
                  "application/javascript"
                ]
              ],
              "status": 200,
              "status_text": ""
            }
          },
          "base_uri": "https://localhost:8080/",
          "height": 106
        }
      },
      "source": [
        "from google.colab import files\n",
        "uploaded = files.upload()"
      ],
      "execution_count": 1,
      "outputs": [
        {
          "output_type": "display_data",
          "data": {
            "text/html": [
              "\n",
              "     <input type=\"file\" id=\"files-73830f4e-5407-4a66-90cc-87cab1e7939c\" name=\"files[]\" multiple disabled\n",
              "        style=\"border:none\" />\n",
              "     <output id=\"result-73830f4e-5407-4a66-90cc-87cab1e7939c\">\n",
              "      Upload widget is only available when the cell has been executed in the\n",
              "      current browser session. Please rerun this cell to enable.\n",
              "      </output>\n",
              "      <script src=\"/nbextensions/google.colab/files.js\"></script> "
            ],
            "text/plain": [
              "<IPython.core.display.HTML object>"
            ]
          },
          "metadata": {
            "tags": []
          }
        },
        {
          "output_type": "stream",
          "text": [
            "Saving cliente_fake.csv to cliente_fake.csv\n",
            "Saving venda_fake.csv to venda_fake.csv\n"
          ],
          "name": "stdout"
        }
      ]
    },
    {
      "cell_type": "code",
      "metadata": {
        "id": "qFeBTnXJG2Hd",
        "outputId": "c603e59b-4fb3-4b91-c4db-0ca6a84ff58b",
        "colab": {
          "base_uri": "https://localhost:8080/"
        }
      },
      "source": [
        "!pip install pyspark"
      ],
      "execution_count": 2,
      "outputs": [
        {
          "output_type": "stream",
          "text": [
            "Collecting pyspark\n",
            "\u001b[?25l  Downloading https://files.pythonhosted.org/packages/f0/26/198fc8c0b98580f617cb03cb298c6056587b8f0447e20fa40c5b634ced77/pyspark-3.0.1.tar.gz (204.2MB)\n",
            "\u001b[K     |████████████████████████████████| 204.2MB 66kB/s \n",
            "\u001b[?25hCollecting py4j==0.10.9\n",
            "\u001b[?25l  Downloading https://files.pythonhosted.org/packages/9e/b6/6a4fb90cd235dc8e265a6a2067f2a2c99f0d91787f06aca4bcf7c23f3f80/py4j-0.10.9-py2.py3-none-any.whl (198kB)\n",
            "\u001b[K     |████████████████████████████████| 204kB 46.4MB/s \n",
            "\u001b[?25hBuilding wheels for collected packages: pyspark\n",
            "  Building wheel for pyspark (setup.py) ... \u001b[?25l\u001b[?25hdone\n",
            "  Created wheel for pyspark: filename=pyspark-3.0.1-py2.py3-none-any.whl size=204612243 sha256=668e4e48dcae08202b22376a4cafabfba5959f59a2cbae59b93121ecdbae6219\n",
            "  Stored in directory: /root/.cache/pip/wheels/5e/bd/07/031766ca628adec8435bb40f0bd83bb676ce65ff4007f8e73f\n",
            "Successfully built pyspark\n",
            "Installing collected packages: py4j, pyspark\n",
            "Successfully installed py4j-0.10.9 pyspark-3.0.1\n"
          ],
          "name": "stdout"
        }
      ]
    },
    {
      "cell_type": "code",
      "metadata": {
        "id": "LcCJ_JlwG2Hq"
      },
      "source": [
        "# coding: utf-8\n",
        "from pyspark.sql import SparkSession"
      ],
      "execution_count": 3,
      "outputs": []
    },
    {
      "cell_type": "code",
      "metadata": {
        "id": "zSTqCqKxG2Hv"
      },
      "source": [
        "spark = SparkSession.builder \\\n",
        "    .appName('ConhecendoCliente') \\\n",
        "    .getOrCreate()"
      ],
      "execution_count": 4,
      "outputs": []
    },
    {
      "cell_type": "markdown",
      "metadata": {
        "id": "yBBaAW0vG2H7"
      },
      "source": [
        "#### Dataset de cliente"
      ]
    },
    {
      "cell_type": "code",
      "metadata": {
        "id": "XEuVxTaXG2H7",
        "outputId": "6898d417-61c7-4854-d24b-fc6ef0b9753e",
        "colab": {
          "base_uri": "https://localhost:8080/"
        }
      },
      "source": [
        "df_cliente = spark.read \\\n",
        "    .option(\"delimiter\", \"|\") \\\n",
        "    .csv('cliente_fake.csv', header=True)\n",
        "\n",
        "df_cliente.show()"
      ],
      "execution_count": 5,
      "outputs": [
        {
          "output_type": "stream",
          "text": [
            "+--------------+----------+-------------+\n",
            "|          nome|cliente_id|dt_nascimento|\n",
            "+--------------+----------+-------------+\n",
            "|Cliente 100013|    100013|   1964-06-21|\n",
            "|Cliente 100014|    100014|   1964-05-24|\n",
            "|Cliente 100015|    100015|   1946-10-18|\n",
            "|Cliente 100016|    100016|   1972-03-24|\n",
            "|Cliente 100017|    100017|   1982-01-19|\n",
            "|Cliente 100018|    100018|   1983-04-26|\n",
            "|Cliente 100019|    100019|   1971-09-09|\n",
            "|Cliente 100020|    100020|   1989-06-18|\n",
            "|Cliente 100007|    100007|   1976-11-04|\n",
            "|Cliente 100008|    100008|   1980-12-01|\n",
            "|Cliente 100009|    100009|   1981-03-05|\n",
            "|Cliente 100010|    100010|   1984-03-20|\n",
            "|Cliente 100011|    100011|   1977-11-22|\n",
            "|Cliente 100012|    100012|   1974-02-04|\n",
            "|Cliente 100001|    100001|   2009-04-16|\n",
            "|Cliente 100002|    100002|   1974-08-29|\n",
            "|Cliente 100003|    100003|   1981-12-05|\n",
            "|Cliente 100004|    100004|   1968-08-08|\n",
            "|Cliente 100005|    100005|   1982-11-29|\n",
            "|Cliente 100006|    100006|   1948-04-01|\n",
            "+--------------+----------+-------------+\n",
            "\n"
          ],
          "name": "stdout"
        }
      ]
    },
    {
      "cell_type": "markdown",
      "metadata": {
        "id": "-RpQF_3fG2H_"
      },
      "source": [
        "#### Dataset de pedido"
      ]
    },
    {
      "cell_type": "code",
      "metadata": {
        "id": "6nEEdYKxG2IA",
        "outputId": "477ab3ac-af0b-4157-df0f-543f3bf42443",
        "colab": {
          "base_uri": "https://localhost:8080/"
        }
      },
      "source": [
        "df_venda = spark.read \\\n",
        "    .option(\"delimiter\", \"|\") \\\n",
        "    .csv('venda_fake.csv', header=True)\n",
        "\n",
        "df_venda.show()"
      ],
      "execution_count": 6,
      "outputs": [
        {
          "output_type": "stream",
          "text": [
            "+--------------+----------+--------------------+----------+-----------+--------------+------------+-------+--------+\n",
            "|     pedido_id|cliente_id|           dt_pedido|produto_id|qt_parcelas|   forma_pagto|vr_unit_item|qt_item|tp_canal|\n",
            "+--------------+----------+--------------------+----------+-----------+--------------+------------+-------+--------+\n",
            "|10000720200217|    100007|2020-02-17T00:00:...|   6253644|         20|cartao credito|         478|      1|    loja|\n",
            "|10000720200217|    100007|2020-02-17T00:00:...|   5313408|         20|cartao credito|      1357.2|      1|    loja|\n",
            "|10000720200217|    100007|2020-02-17T00:00:...|   6253140|         20|cartao credito|         372|      1|    loja|\n",
            "|10000720200625|    100007|2020-06-25T00:00:...|   6858780|          7|cartao credito|       317.8|      1|    site|\n",
            "|10000120200626|    100001|2020-06-26T00:00:...|   7560984|         16|cartao credito|     1399.04|      1|    loja|\n",
            "|10000920200614|    100009|2020-06-14T00:00:...|   7571280|         20|cartao credito|         990|      1|    loja|\n",
            "|10000920191209|    100009|2019-12-09T00:00:...|   7318728|         15|cartao credito|         999|      1|    loja|\n",
            "|10000920200614|    100009|2020-06-14T00:00:...|   7571436|         20|cartao credito|        1190|      1|    loja|\n",
            "|10000920200612|    100009|2020-06-12T00:00:...|   7571508|         20|cartao credito|        1299|      1|    loja|\n",
            "|10000520200214|    100005|2020-02-14T00:00:...|   7589448|         13|         carne|     1242.28|      1|    loja|\n",
            "|10000520200121|    100005|2020-01-21T00:00:...|   7197636|         15|         carne|        1965|      1|    loja|\n",
            "|10001720200103|    100017|2020-01-03T00:00:...|   3682128|         17|cartao credito|     2892.18|      1|    loja|\n",
            "|10001720200103|    100017|2020-01-03T00:00:...|   7537476|         17|cartao credito|      1284.7|      1|    loja|\n",
            "|10002020200731|    100020|2020-07-31T00:00:...|   7079940|         11|        outros|        5.69|      1|    loja|\n",
            "|10002020200731|    100020|2020-07-31T00:00:...|   7571232|         11|        outros|      749.97|      1|    loja|\n",
            "|10001920200604|    100019|2020-06-04T00:00:...|   6117516|         13|cartao credito|     2598.96|      1|    loja|\n",
            "|10001920200424|    100019|2020-04-24T00:00:...|   7692780|         10|cartao credito|        2099|      1|    loja|\n",
            "|10001920200309|    100019|2020-03-09T00:00:...|   7507788|          1|        outros|        1417|      1|    loja|\n",
            "|10000620200810|    100006|2020-08-10T00:00:...|   2320992|          9|         carne|       49.93|      2|    loja|\n",
            "|10000620200810|    100006|2020-08-10T00:00:...|   7502256|          9|         carne|      795.54|      1|    loja|\n",
            "+--------------+----------+--------------------+----------+-----------+--------------+------------+-------+--------+\n",
            "only showing top 20 rows\n",
            "\n"
          ],
          "name": "stdout"
        }
      ]
    },
    {
      "cell_type": "code",
      "metadata": {
        "id": "U3VNjsxjRtoy",
        "outputId": "c582410b-8d14-42ce-cfcf-f1ba19df86da",
        "colab": {
          "base_uri": "https://localhost:8080/"
        }
      },
      "source": [
        "import pyspark.sql.functions as sf\n",
        "\n",
        "idade = df_cliente \\\n",
        "  .select(\n",
        "      sf.col('cliente_id'),\n",
        "      sf.col('dt_nascimento')) \\\n",
        "  .withColumn('idade', (sf.year(sf.current_date()) - sf.year('dt_nascimento')))\n",
        "\n",
        "idade = idade \\\n",
        "    .select(\n",
        "      sf.col('cliente_id'),\n",
        "      sf.col('idade'))\n",
        "    \n",
        "recencia = df_venda \\\n",
        "  .select(\n",
        "      sf.col('cliente_id'),\n",
        "      sf.col('dt_pedido').cast('timestamp')) \\\n",
        "  .withColumn('recencia', sf.round(sf.months_between(sf.current_date(), 'dt_pedido'))) \\\n",
        "  .groupBy('cliente_id') \\\n",
        "  .max('recencia') \\\n",
        "  .withColumnRenamed('max(recencia)', 'recencia')\n",
        "\n",
        "qt_total_compras = df_venda \\\n",
        "  .select(\n",
        "      sf.col('cliente_id'),\n",
        "      sf.col('pedido_id')) \\\n",
        "  .distinct() \\\n",
        "  .groupBy('cliente_id') \\\n",
        "  .count() \\\n",
        "  .withColumnRenamed('count', 'qt_total_compras')\n",
        "\n",
        "vr_total_compras = df_venda \\\n",
        "  .select(\n",
        "      sf.col('cliente_id'),\n",
        "      sf.col('vr_unit_item').cast('numeric(8,2)'),\n",
        "      sf.col('qt_item').cast('integer')) \\\n",
        "  .withColumn('vr_total_items', \n",
        "              sf.col('vr_unit_item').cast('numeric(8,2)') * \\\n",
        "              sf.col('qt_item').cast('integer')) \\\n",
        "  .groupBy('cliente_id') \\\n",
        "  .sum('vr_total_items') \\\n",
        "  .withColumnRenamed('sum(vr_total_items)', 'vr_total_compras')\n",
        "\n",
        "qt_total_itens = df_venda \\\n",
        "  .select(\n",
        "      sf.col('cliente_id'),\n",
        "      sf.col('produto_id')) \\\n",
        "  .distinct() \\\n",
        "  .groupBy('cliente_id') \\\n",
        "  .count() \\\n",
        "  .withColumnRenamed('count', 'qt_total_itens')\n",
        "\n",
        "qt_max_parcelas = df_venda \\\n",
        "  .select(\n",
        "      sf.col('cliente_id'),\n",
        "      sf.col('qt_parcelas').cast('integer')) \\\n",
        "  .distinct() \\\n",
        "  .groupBy('cliente_id') \\\n",
        "  .max('qt_parcelas') \\\n",
        "  .withColumnRenamed('max(qt_parcelas)', 'qt_max_parcelas')\n",
        "\n",
        "perfil_cliente_nome = df_venda \\\n",
        "  .select(\n",
        "      sf.col('tp_canal'),\n",
        "      sf.col('cliente_id')) \\\n",
        "  .distinct() \\\n",
        "  .groupBy('cliente_id') \\\n",
        "  .agg(sf.max(\"tp_canal\").alias(\"tp_canal\"))\n",
        "\n",
        "perfil_cliente_qt = df_venda \\\n",
        "  .select(\n",
        "      sf.col('tp_canal'),\n",
        "      sf.col('cliente_id')) \\\n",
        "  .distinct() \\\n",
        "  .groupBy('cliente_id') \\\n",
        "  .count() \\\n",
        "  .withColumnRenamed('count', 'qt_canal')\n",
        "  \n",
        "perfil_cliente = perfil_cliente_nome.join(perfil_cliente_qt, 'cliente_id') \\\n",
        "  .withColumn('perfil_cliente', sf.when(sf.col('qt_canal') == 1, sf.col('tp_canal'))\n",
        "  .otherwise(\"multicanal\"))\n",
        "\n",
        "perfil_cliente = perfil_cliente \\\n",
        "  .select(\n",
        "    sf.col('cliente_id'),\n",
        "    sf.col('perfil_cliente'))\n",
        "\n",
        "output = idade.join(recencia,'cliente_id') \\\n",
        "  .join(qt_total_compras,'cliente_id') \\\n",
        "  .join(vr_total_compras,'cliente_id') \\\n",
        "  .join(qt_total_itens,'cliente_id') \\\n",
        "  .join(qt_max_parcelas,'cliente_id') \\\n",
        "  .join(perfil_cliente,'cliente_id')\n",
        "  \n",
        "output.show()\n",
        "\n"
      ],
      "execution_count": 60,
      "outputs": [
        {
          "output_type": "stream",
          "text": [
            "+----------+-----+--------+----------------+----------------+--------------+---------------+--------------+\n",
            "|cliente_id|idade|recencia|qt_total_compras|vr_total_compras|qt_total_itens|qt_max_parcelas|perfil_cliente|\n",
            "+----------+-----+--------+----------------+----------------+--------------+---------------+--------------+\n",
            "|    100010|   36|     9.0|               1|          898.97|             1|              9|          loja|\n",
            "|    100014|   56|     8.0|               2|         1746.01|             3|             11|          loja|\n",
            "|    100008|   40|     4.0|               1|         1399.86|             1|             14|          loja|\n",
            "|    100006|   72|     3.0|               1|         3170.72|             3|              9|          loja|\n",
            "|    100005|   38|     9.0|               2|         3207.28|             2|             15|          loja|\n",
            "|    100007|   44|     8.0|               2|         2525.00|             4|             20|    multicanal|\n",
            "|    100020|   31|     3.0|               1|          755.66|             2|             11|          loja|\n",
            "|    100009|   39|    11.0|               3|         4478.00|             4|             20|          loja|\n",
            "|    100004|   52|    10.0|               2|         6860.08|             2|             24|    multicanal|\n",
            "|    100015|   74|     4.0|               2|         2592.99|             3|              9|          loja|\n",
            "|    100016|   48|     9.0|               1|          181.08|             2|              9|          loja|\n",
            "|    100003|   39|     3.0|               2|         1904.95|             3|             10|          loja|\n",
            "|    100019|   49|     8.0|               3|         6114.96|             3|             13|          loja|\n",
            "|    100011|   43|     8.0|               1|         1324.80|             2|              9|          loja|\n",
            "|    100012|   46|     8.0|               1|         1099.98|             1|             14|          loja|\n",
            "|    100013|   56|    10.0|               4|         7053.58|             7|             15|    multicanal|\n",
            "|    100017|   38|    10.0|               1|         4176.88|             2|             17|          loja|\n",
            "|    100002|   46|     8.0|               1|         1280.07|             1|              9|          loja|\n",
            "|    100018|   37|    10.0|               1|         1437.96|             3|             13|          loja|\n",
            "|    100001|   11|     4.0|               1|         1399.04|             1|             16|          loja|\n",
            "+----------+-----+--------+----------------+----------------+--------------+---------------+--------------+\n",
            "\n"
          ],
          "name": "stdout"
        }
      ]
    }
  ]
}